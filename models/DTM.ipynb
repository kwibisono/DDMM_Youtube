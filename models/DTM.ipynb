{
 "cells": [
  {
   "cell_type": "code",
   "execution_count": null,
   "metadata": {},
   "outputs": [],
   "source": [
    "import numpy as np\n",
    "import pandas as pd\n",
    "import matplotlib.pyplot as plt\n",
    "import pickle\n",
    "import json\n",
    "\n",
    "from sklearn.metrics.cluster import adjusted_mutual_info_score\n",
    "\n",
    "from gensim.models import LdaSeqModel"
   ]
  },
  {
   "cell_type": "code",
   "execution_count": null,
   "metadata": {},
   "outputs": [],
   "source": [
    "# Read BoW file\n",
    "bow = np.load('title_tags_description/title_tags_description_bow.npy')\n",
    "\n",
    "# Read index to word json file\n",
    "### Warning: the keys (word indices) are string type\n",
    "with open('title_tags_description/title_tags_description_indexword.json') as json_file:\n",
    "    indexword_dict = json.load(json_file)\n",
    "    \n",
    "# Read meta file\n",
    "meta = pd.read_csv('title_tags_description/title_tags_description_meta.csv', lineterminator='^')"
   ]
  },
  {
   "cell_type": "code",
   "execution_count": null,
   "metadata": {},
   "outputs": [],
   "source": [
    "# Create corpus format bow for ldaseq\n",
    "corpus = []\n",
    "for i in range(len(bow)):\n",
    "    doc_corpus = []\n",
    "    for ind in list(np.where(bow[i]>0)[0]):\n",
    "        doc_corpus.append((ind, bow[i][ind]))\n",
    "    corpus.append(doc_corpus)"
   ]
  },
  {
   "cell_type": "code",
   "execution_count": null,
   "metadata": {},
   "outputs": [],
   "source": [
    "# Count number of data in each t, and create a list\n",
    "time_slice = [len(meta[meta['t_month']==i]) for i in np.unique(meta['t_month'])]"
   ]
  },
  {
   "cell_type": "markdown",
   "metadata": {},
   "source": [
    "Training"
   ]
  },
  {
   "cell_type": "code",
   "execution_count": null,
   "metadata": {},
   "outputs": [],
   "source": [
    "# Train ldaseq\n",
    "ldaseq = LdaSeqModel(corpus=corpus, time_slice=time_slice, num_topics=16)"
   ]
  },
  {
   "cell_type": "code",
   "execution_count": null,
   "metadata": {},
   "outputs": [],
   "source": [
    "ldaseq.save('title_tags_description_ldaseq_k16_run2')"
   ]
  }
 ],
 "metadata": {
  "kernelspec": {
   "display_name": "Python 3",
   "language": "python",
   "name": "python3"
  },
  "language_info": {
   "codemirror_mode": {
    "name": "ipython",
    "version": 3
   },
   "file_extension": ".py",
   "mimetype": "text/x-python",
   "name": "python",
   "nbconvert_exporter": "python",
   "pygments_lexer": "ipython3",
   "version": "3.6.9"
  }
 },
 "nbformat": 4,
 "nbformat_minor": 2
}
