{
 "cells": [
  {
   "cell_type": "code",
   "execution_count": 3,
   "metadata": {},
   "outputs": [],
   "source": [
    "import pandas as pd\n",
    "import numpy as np\n",
    "from scipy.special import softmax\n",
    "import copy\n",
    "import json\n",
    "from tqdm import tqdm_notebook\n",
    "import pickle\n",
    "from sklearn.metrics.cluster import adjusted_mutual_info_score"
   ]
  },
  {
   "cell_type": "code",
   "execution_count": 4,
   "metadata": {},
   "outputs": [],
   "source": [
    "meta = pd.read_csv('title_tags_description/title_tags_description_meta.csv', lineterminator='^')\n",
    "\n",
    "# Read index to word json file\n",
    "### Warning: the keys (word indices) are string type\n",
    "with open('title_tags_description/title_tags_description_indexword.json') as json_file:\n",
    "    vocab = json.load(json_file)\n",
    "    \n",
    "# Read BoW file\n",
    "bows = np.load('title_tags_description/title_tags_description_bow.npy')"
   ]
  },
  {
   "cell_type": "code",
   "execution_count": 5,
   "metadata": {},
   "outputs": [],
   "source": [
    "vocab = list(vocab.values())"
   ]
  },
  {
   "cell_type": "code",
   "execution_count": 7,
   "metadata": {},
   "outputs": [],
   "source": [
    "bow = bows"
   ]
  },
  {
   "cell_type": "code",
   "execution_count": 8,
   "metadata": {},
   "outputs": [],
   "source": [
    "corpus = []\n",
    "for i in range(len(bow)):\n",
    "    doc_corpus = []\n",
    "    for ind in list(np.where(bow[i]>0)[0]):\n",
    "        doc_corpus.append((ind, bow[i][ind]))\n",
    "    corpus.append(doc_corpus)"
   ]
  },
  {
   "cell_type": "code",
   "execution_count": 11,
   "metadata": {},
   "outputs": [],
   "source": [
    "dictionary = {i:vocab[i] for i in range(len(vocab))}"
   ]
  },
  {
   "cell_type": "code",
   "execution_count": 31,
   "metadata": {},
   "outputs": [],
   "source": [
    "# Train LDA model.\n",
    "from gensim.models import LdaModel\n",
    "\n",
    "# Set training parameters.\n",
    "num_topics = 16\n",
    "eval_every = None  # Don't evaluate model perplexity, takes too much time.\n",
    "\n",
    "# Make a index to word dictionary.\n",
    "temp = dictionary[0]  # This is only to \"load\" the dictionary.\n",
    "\n",
    "model = LdaModel(\n",
    "    corpus=corpus,\n",
    "    num_topics=num_topics,\n",
    "    eval_every=eval_every\n",
    ")"
   ]
  },
  {
   "cell_type": "code",
   "execution_count": 33,
   "metadata": {},
   "outputs": [],
   "source": [
    "temp = model.get_document_topics(corpus)"
   ]
  },
  {
   "cell_type": "code",
   "execution_count": 35,
   "metadata": {},
   "outputs": [],
   "source": [
    "def extract_topics():\n",
    "    res = []\n",
    "    for i in range(len(temp)):\n",
    "        res.append(sorted(temp[i], key = lambda x: -x[1])[0][0])\n",
    "    return res"
   ]
  },
  {
   "cell_type": "code",
   "execution_count": 36,
   "metadata": {},
   "outputs": [],
   "source": [
    "topics = extract_topics()"
   ]
  },
  {
   "cell_type": "code",
   "execution_count": 37,
   "metadata": {},
   "outputs": [],
   "source": [
    "# calculate Adjusted Mutual Information (AMI)\n",
    "\n",
    "# clust_asgn and ground_truth are corresponding\n",
    "def calculate_ami(clust_asgn, true_genres):\n",
    "    #pred_clusters = np.concatenate(clust_asgn).ravel()\n",
    "    return adjusted_mutual_info_score(true_genres, clust_asgn)"
   ]
  },
  {
   "cell_type": "code",
   "execution_count": 38,
   "metadata": {},
   "outputs": [],
   "source": [
    "meta_genres = pd.read_csv('title_tags_description' + '/' + 'title_tags_description' + '_meta.csv', lineterminator='^', \\\n",
    "                      dtype={'genre':'category'}).genre.cat.codes"
   ]
  },
  {
   "cell_type": "code",
   "execution_count": 39,
   "metadata": {},
   "outputs": [
    {
     "data": {
      "text/plain": [
       "0.18654357214580636"
      ]
     },
     "execution_count": 39,
     "metadata": {},
     "output_type": "execute_result"
    }
   ],
   "source": [
    "calculate_ami(topics, meta_genres)"
   ]
  }
 ],
 "metadata": {
  "kernelspec": {
   "display_name": "Python 3",
   "language": "python",
   "name": "python3"
  },
  "language_info": {
   "codemirror_mode": {
    "name": "ipython",
    "version": 3
   },
   "file_extension": ".py",
   "mimetype": "text/x-python",
   "name": "python",
   "nbconvert_exporter": "python",
   "pygments_lexer": "ipython3",
   "version": "3.7.6"
  }
 },
 "nbformat": 4,
 "nbformat_minor": 4
}
